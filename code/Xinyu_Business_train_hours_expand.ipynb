{
 "cells": [
  {
   "cell_type": "markdown",
   "metadata": {},
   "source": [
    "# Category Transformation"
   ]
  },
  {
   "cell_type": "code",
   "execution_count": 1,
   "metadata": {},
   "outputs": [],
   "source": [
    "import os, sys, json, csv, ast, math, re\n",
    "import numpy as np\n",
    "import pandas as pd\n",
    "from pandas import DataFrame\n",
    "from ast import literal_eval"
   ]
  },
  {
   "cell_type": "code",
   "execution_count": 2,
   "metadata": {},
   "outputs": [],
   "source": [
    "bus_train_expand = \"C:\\\\Users\\\\25982\\\\Dropbox\\\\STAT 628 Module 2 Yelp\\\\bus_train_expand.csv\""
   ]
  },
  {
   "cell_type": "markdown",
   "metadata": {},
   "source": [
    "1. **dat1.dtypes**: print the types of columns\n",
    "2. **dat1.columns**: print the name of columns  Index\n",
    "2. **dat1.columns.values**: print the name of columns  Array"
   ]
  },
  {
   "cell_type": "code",
   "execution_count": 3,
   "metadata": {},
   "outputs": [
    {
     "name": "stderr",
     "output_type": "stream",
     "text": [
      "C:\\Users\\25982\\AppData\\Local\\conda\\conda\\envs\\stat 628\\lib\\site-packages\\IPython\\core\\interactiveshell.py:3020: DtypeWarning: Columns (23,31) have mixed types. Specify dtype option on import or set low_memory=False.\n",
      "  interactivity=interactivity, compiler=compiler, result=result)\n"
     ]
    },
    {
     "data": {
      "text/plain": [
       "[business_id                     int64\n",
       " name                           object\n",
       " city                           object\n",
       " state                          object\n",
       " postal_code                    object\n",
       " latitude                      float64\n",
       " longitude                     float64\n",
       " is_open                         int64\n",
       " attributes                     object\n",
       " categories                     object\n",
       " hours                          object\n",
       " BusinessAcceptsBitcoin         object\n",
       " HappyHour                      object\n",
       " Corkage                        object\n",
       " Alcohol                        object\n",
       " NoiseLevel                     object\n",
       " RestaurantsPriceRange2         object\n",
       " BusinessAcceptsCreditCards     object\n",
       " BusinessParking                object\n",
       " RestaurantsReservations        object\n",
       " ByAppointmentOnly              object\n",
       " GoodForDancing                 object\n",
       " RestaurantsCounterService      object\n",
       " BikeParking                    object\n",
       " RestaurantsAttire              object\n",
       " RestaurantsTableService        object\n",
       " BestNights                     object\n",
       " DriveThru                      object\n",
       " Ambience                       object\n",
       " BYOBCorkage                    object\n",
       " Open24Hours                    object\n",
       " AcceptsInsurance               object\n",
       " WiFi                           object\n",
       " RestaurantsTakeOut             object\n",
       " OutdoorSeating                 object\n",
       " CoatCheck                      object\n",
       " Smoking                        object\n",
       " HairSpecializesIn              object\n",
       " RestaurantsGoodForGroups       object\n",
       " AgesAllowed                    object\n",
       " HasTV                          object\n",
       " Music                          object\n",
       " DogsAllowed                    object\n",
       " BYOB                           object\n",
       " DietaryRestrictions            object\n",
       " RestaurantsDelivery            object\n",
       " Caters                         object\n",
       " GoodForKids                    object\n",
       " GoodForMeal                    object\n",
       " WheelchairAccessible           object\n",
       " Monday                         object\n",
       " Friday                         object\n",
       " Thursday                       object\n",
       " Sunday                         object\n",
       " Saturday                       object\n",
       " Tuesday                        object\n",
       " Wednesday                      object\n",
       " dtype: object,\n",
       " Index(['business_id', 'name', 'city', 'state', 'postal_code', 'latitude',\n",
       "        'longitude', 'is_open', 'attributes', 'categories', 'hours',\n",
       "        'BusinessAcceptsBitcoin', 'HappyHour', 'Corkage', 'Alcohol',\n",
       "        'NoiseLevel', 'RestaurantsPriceRange2', 'BusinessAcceptsCreditCards',\n",
       "        'BusinessParking', 'RestaurantsReservations', 'ByAppointmentOnly',\n",
       "        'GoodForDancing', 'RestaurantsCounterService', 'BikeParking',\n",
       "        'RestaurantsAttire', 'RestaurantsTableService', 'BestNights',\n",
       "        'DriveThru', 'Ambience', 'BYOBCorkage', 'Open24Hours',\n",
       "        'AcceptsInsurance', 'WiFi', 'RestaurantsTakeOut', 'OutdoorSeating',\n",
       "        'CoatCheck', 'Smoking', 'HairSpecializesIn', 'RestaurantsGoodForGroups',\n",
       "        'AgesAllowed', 'HasTV', 'Music', 'DogsAllowed', 'BYOB',\n",
       "        'DietaryRestrictions', 'RestaurantsDelivery', 'Caters', 'GoodForKids',\n",
       "        'GoodForMeal', 'WheelchairAccessible', 'Monday', 'Friday', 'Thursday',\n",
       "        'Sunday', 'Saturday', 'Tuesday', 'Wednesday'],\n",
       "       dtype='object'),\n",
       " array(['business_id', 'name', 'city', 'state', 'postal_code', 'latitude',\n",
       "        'longitude', 'is_open', 'attributes', 'categories', 'hours',\n",
       "        'BusinessAcceptsBitcoin', 'HappyHour', 'Corkage', 'Alcohol',\n",
       "        'NoiseLevel', 'RestaurantsPriceRange2',\n",
       "        'BusinessAcceptsCreditCards', 'BusinessParking',\n",
       "        'RestaurantsReservations', 'ByAppointmentOnly', 'GoodForDancing',\n",
       "        'RestaurantsCounterService', 'BikeParking', 'RestaurantsAttire',\n",
       "        'RestaurantsTableService', 'BestNights', 'DriveThru', 'Ambience',\n",
       "        'BYOBCorkage', 'Open24Hours', 'AcceptsInsurance', 'WiFi',\n",
       "        'RestaurantsTakeOut', 'OutdoorSeating', 'CoatCheck', 'Smoking',\n",
       "        'HairSpecializesIn', 'RestaurantsGoodForGroups', 'AgesAllowed',\n",
       "        'HasTV', 'Music', 'DogsAllowed', 'BYOB', 'DietaryRestrictions',\n",
       "        'RestaurantsDelivery', 'Caters', 'GoodForKids', 'GoodForMeal',\n",
       "        'WheelchairAccessible', 'Monday', 'Friday', 'Thursday', 'Sunday',\n",
       "        'Saturday', 'Tuesday', 'Wednesday'], dtype=object)]"
      ]
     },
     "execution_count": 3,
     "metadata": {},
     "output_type": "execute_result"
    }
   ],
   "source": [
    "dat1 = pd.read_csv(bus_train_expand)\n",
    "# dat1.drop(['Unnamed: 0'], axis=1) Not work\n",
    "del dat1['Unnamed: 0']\n",
    "[dat1.dtypes, dat1.columns, dat1.columns.values]\n",
    "#dat1.shape"
   ]
  },
  {
   "cell_type": "code",
   "execution_count": 4,
   "metadata": {},
   "outputs": [
    {
     "data": {
      "text/html": [
       "<div>\n",
       "<style scoped>\n",
       "    .dataframe tbody tr th:only-of-type {\n",
       "        vertical-align: middle;\n",
       "    }\n",
       "\n",
       "    .dataframe tbody tr th {\n",
       "        vertical-align: top;\n",
       "    }\n",
       "\n",
       "    .dataframe thead th {\n",
       "        text-align: right;\n",
       "    }\n",
       "</style>\n",
       "<table border=\"1\" class=\"dataframe\">\n",
       "  <thead>\n",
       "    <tr style=\"text-align: right;\">\n",
       "      <th></th>\n",
       "      <th>business_id</th>\n",
       "      <th>name</th>\n",
       "      <th>city</th>\n",
       "      <th>state</th>\n",
       "      <th>postal_code</th>\n",
       "      <th>latitude</th>\n",
       "      <th>longitude</th>\n",
       "      <th>is_open</th>\n",
       "      <th>attributes</th>\n",
       "      <th>categories</th>\n",
       "      <th>...</th>\n",
       "      <th>GoodForKids</th>\n",
       "      <th>GoodForMeal</th>\n",
       "      <th>WheelchairAccessible</th>\n",
       "      <th>Monday</th>\n",
       "      <th>Friday</th>\n",
       "      <th>Thursday</th>\n",
       "      <th>Sunday</th>\n",
       "      <th>Saturday</th>\n",
       "      <th>Tuesday</th>\n",
       "      <th>Wednesday</th>\n",
       "    </tr>\n",
       "  </thead>\n",
       "  <tbody>\n",
       "    <tr>\n",
       "      <th>0</th>\n",
       "      <td>3157</td>\n",
       "      <td>Arizona Biltmore Golf Club</td>\n",
       "      <td>Phoenix</td>\n",
       "      <td>AZ</td>\n",
       "      <td>85016</td>\n",
       "      <td>33.522143</td>\n",
       "      <td>-112.018481</td>\n",
       "      <td>0</td>\n",
       "      <td>{'GoodForKids': 'False'}</td>\n",
       "      <td>Golf, Active Life</td>\n",
       "      <td>...</td>\n",
       "      <td>False</td>\n",
       "      <td>NaN</td>\n",
       "      <td>NaN</td>\n",
       "      <td>NaN</td>\n",
       "      <td>NaN</td>\n",
       "      <td>NaN</td>\n",
       "      <td>NaN</td>\n",
       "      <td>NaN</td>\n",
       "      <td>NaN</td>\n",
       "      <td>NaN</td>\n",
       "    </tr>\n",
       "  </tbody>\n",
       "</table>\n",
       "<p>1 rows × 57 columns</p>\n",
       "</div>"
      ],
      "text/plain": [
       "   business_id                        name     city state postal_code  \\\n",
       "0         3157  Arizona Biltmore Golf Club  Phoenix    AZ       85016   \n",
       "\n",
       "    latitude   longitude  is_open                attributes  \\\n",
       "0  33.522143 -112.018481        0  {'GoodForKids': 'False'}   \n",
       "\n",
       "          categories  ... GoodForKids GoodForMeal WheelchairAccessible Monday  \\\n",
       "0  Golf, Active Life  ...       False         NaN                  NaN    NaN   \n",
       "\n",
       "  Friday Thursday Sunday Saturday Tuesday Wednesday  \n",
       "0    NaN      NaN    NaN      NaN     NaN       NaN  \n",
       "\n",
       "[1 rows x 57 columns]"
      ]
     },
     "execution_count": 4,
     "metadata": {},
     "output_type": "execute_result"
    }
   ],
   "source": [
    "a=0;b=1\n",
    "# Look at the rows\n",
    "dat1.head(b) # print the first b rows of pandas Dataframe\n",
    "dat1.loc[a] # print the \"a\" row\n",
    "dat1.loc[[a,b]]# print the a & b row\n",
    "dat1.loc[dat1.index[a:b]] # print the a:(b-1) row"
   ]
  },
  {
   "cell_type": "markdown",
   "metadata": {},
   "source": [
    "# Analyze category\n",
    "\n",
    "Since there are too much levels, 2446, we do not want to split this variable into 2446 columns."
   ]
  },
  {
   "cell_type": "code",
   "execution_count": 5,
   "metadata": {},
   "outputs": [
    {
     "data": {
      "text/plain": [
       "0                    Golf, Active Life\n",
       "1    Sushi Bars, Restaurants, Japanese\n",
       "2        Insurance, Financial Services\n",
       "Name: categories, dtype: object"
      ]
     },
     "execution_count": 5,
     "metadata": {},
     "output_type": "execute_result"
    }
   ],
   "source": [
    "# Look at the columns\n",
    "dat1[['categories']]  # print the specific column\n",
    "dat1.loc[0:2,'categories'] # print specific row,col"
   ]
  },
  {
   "cell_type": "code",
   "execution_count": 6,
   "metadata": {},
   "outputs": [
    {
     "name": "stdout",
     "output_type": "stream",
     "text": [
      "['Golf' ' Active Life' 'Sushi Bars' ... ' Churros' 'Oxygen Bars'\n",
      " ' Registry Office']\n"
     ]
    }
   ],
   "source": [
    "categories_1 = dat1.loc[:,'categories'] # pandas.core.series.Series\n",
    "categories_2 = categories_1.str.cat(sep=',') # str\n",
    "categories_3 = categories_2.split(',') #list\n",
    "categories_4 = pd.Series(categories_3) # pandas.core.series.Series\n",
    "[type(categories_1),type(categories_2), type(categories_3), type(categories_4)]\n",
    "categories_levels = pd.Series(dat1.loc[:,'categories'].str.cat(sep=',').split(',')).unique()\n",
    "print (categories_levels)"
   ]
  },
  {
   "cell_type": "code",
   "execution_count": 7,
   "metadata": {},
   "outputs": [
    {
     "data": {
      "text/plain": [
       "[632181, 2446]"
      ]
     },
     "execution_count": 7,
     "metadata": {},
     "output_type": "execute_result"
    }
   ],
   "source": [
    "[len(categories_4), len(categories_levels)]"
   ]
  },
  {
   "cell_type": "markdown",
   "metadata": {},
   "source": [
    "# Analyze hours"
   ]
  },
  {
   "cell_type": "code",
   "execution_count": 8,
   "metadata": {},
   "outputs": [
    {
     "data": {
      "text/plain": [
       "0            NaN\n",
       "1    17:30-21:30\n",
       "2       8:0-17:0\n",
       "3       7:0-23:0\n",
       "4            NaN\n",
       "Name: Monday, dtype: object"
      ]
     },
     "execution_count": 8,
     "metadata": {},
     "output_type": "execute_result"
    }
   ],
   "source": [
    "dat1['Monday'].head() # Exist NaN"
   ]
  },
  {
   "cell_type": "code",
   "execution_count": 9,
   "metadata": {},
   "outputs": [
    {
     "data": {
      "text/plain": [
       "business_id                     int64\n",
       "name                           object\n",
       "city                           object\n",
       "state                          object\n",
       "postal_code                    object\n",
       "latitude                      float64\n",
       "longitude                     float64\n",
       "is_open                         int64\n",
       "attributes                     object\n",
       "categories                     object\n",
       "hours                          object\n",
       "BusinessAcceptsBitcoin         object\n",
       "HappyHour                      object\n",
       "Corkage                        object\n",
       "Alcohol                        object\n",
       "NoiseLevel                     object\n",
       "RestaurantsPriceRange2         object\n",
       "BusinessAcceptsCreditCards     object\n",
       "BusinessParking                object\n",
       "RestaurantsReservations        object\n",
       "ByAppointmentOnly              object\n",
       "GoodForDancing                 object\n",
       "RestaurantsCounterService      object\n",
       "BikeParking                    object\n",
       "RestaurantsAttire              object\n",
       "RestaurantsTableService        object\n",
       "BestNights                     object\n",
       "DriveThru                      object\n",
       "Ambience                       object\n",
       "BYOBCorkage                    object\n",
       "Open24Hours                    object\n",
       "AcceptsInsurance               object\n",
       "WiFi                           object\n",
       "RestaurantsTakeOut             object\n",
       "OutdoorSeating                 object\n",
       "CoatCheck                      object\n",
       "Smoking                        object\n",
       "HairSpecializesIn              object\n",
       "RestaurantsGoodForGroups       object\n",
       "AgesAllowed                    object\n",
       "HasTV                          object\n",
       "Music                          object\n",
       "DogsAllowed                    object\n",
       "BYOB                           object\n",
       "DietaryRestrictions            object\n",
       "RestaurantsDelivery            object\n",
       "Caters                         object\n",
       "GoodForKids                    object\n",
       "GoodForMeal                    object\n",
       "WheelchairAccessible           object\n",
       "Monday                         object\n",
       "Friday                         object\n",
       "Thursday                       object\n",
       "Sunday                         object\n",
       "Saturday                       object\n",
       "Tuesday                        object\n",
       "Wednesday                      object\n",
       "dtype: object"
      ]
     },
     "execution_count": 9,
     "metadata": {},
     "output_type": "execute_result"
    }
   ],
   "source": [
    "dat1.dtypes"
   ]
  },
  {
   "cell_type": "code",
   "execution_count": 10,
   "metadata": {},
   "outputs": [],
   "source": [
    "dat1[['Monday_open','Monday_close']]=dat1.pop('Monday').str.extract('(.*)-(.*)',  expand=True)\n",
    "dat1[['Tuesday_open','Tuesday_close']]=dat1.pop('Tuesday').str.extract('(.*)-(.*)',  expand=True)\n",
    "dat1[['Wednesday_open','Wednesday_close']]=dat1.pop('Wednesday').str.extract('(.*)-(.*)',  expand=True)\n",
    "dat1[['Thursday_open','Thursday_close']]=dat1.pop('Thursday').str.extract('(.*)-(.*)',  expand=True)\n",
    "dat1[['Friday_open','Friday_close']]=dat1.pop('Friday').str.extract('(.*)-(.*)',  expand=True)\n",
    "dat1[['Saturday_open','Saturday_close']]=dat1.pop('Saturday').str.extract('(.*)-(.*)',  expand=True)\n",
    "dat1[['Sunday_open','Sunday_close']]=dat1.pop('Sunday').str.extract('(.*)-(.*)',  expand=True)"
   ]
  },
  {
   "cell_type": "code",
   "execution_count": 11,
   "metadata": {},
   "outputs": [
    {
     "data": {
      "text/plain": [
       "business_id                     int64\n",
       "name                           object\n",
       "city                           object\n",
       "state                          object\n",
       "postal_code                    object\n",
       "latitude                      float64\n",
       "longitude                     float64\n",
       "is_open                         int64\n",
       "attributes                     object\n",
       "categories                     object\n",
       "hours                          object\n",
       "BusinessAcceptsBitcoin         object\n",
       "HappyHour                      object\n",
       "Corkage                        object\n",
       "Alcohol                        object\n",
       "NoiseLevel                     object\n",
       "RestaurantsPriceRange2         object\n",
       "BusinessAcceptsCreditCards     object\n",
       "BusinessParking                object\n",
       "RestaurantsReservations        object\n",
       "ByAppointmentOnly              object\n",
       "GoodForDancing                 object\n",
       "RestaurantsCounterService      object\n",
       "BikeParking                    object\n",
       "RestaurantsAttire              object\n",
       "RestaurantsTableService        object\n",
       "BestNights                     object\n",
       "DriveThru                      object\n",
       "Ambience                       object\n",
       "BYOBCorkage                    object\n",
       "                               ...   \n",
       "OutdoorSeating                 object\n",
       "CoatCheck                      object\n",
       "Smoking                        object\n",
       "HairSpecializesIn              object\n",
       "RestaurantsGoodForGroups       object\n",
       "AgesAllowed                    object\n",
       "HasTV                          object\n",
       "Music                          object\n",
       "DogsAllowed                    object\n",
       "BYOB                           object\n",
       "DietaryRestrictions            object\n",
       "RestaurantsDelivery            object\n",
       "Caters                         object\n",
       "GoodForKids                    object\n",
       "GoodForMeal                    object\n",
       "WheelchairAccessible           object\n",
       "Monday_open                    object\n",
       "Monday_close                   object\n",
       "Tuesday_open                   object\n",
       "Tuesday_close                  object\n",
       "Wednesday_open                 object\n",
       "Wednesday_close                object\n",
       "Thursday_open                  object\n",
       "Thursday_close                 object\n",
       "Friday_open                    object\n",
       "Friday_close                   object\n",
       "Saturday_open                  object\n",
       "Saturday_close                 object\n",
       "Sunday_open                    object\n",
       "Sunday_close                   object\n",
       "Length: 64, dtype: object"
      ]
     },
     "execution_count": 11,
     "metadata": {},
     "output_type": "execute_result"
    }
   ],
   "source": [
    "#dat1[['Sunday_open','Sunday_close']]=dat1['Sunday'].str.extract('(.*)-(.*)',  expand=True)\n",
    "#dat1[['Sunday_open','Sunday_close']]=dat1.pop('Sunday').str.extract('(.*)-(.*)',  expand=True)\n",
    "dat1.dtypes"
   ]
  },
  {
   "cell_type": "markdown",
   "metadata": {},
   "source": [
    "1. **pd.DataFrame.from_dict(hours_1)**: still the same\n",
    "2. **pd.DataFrame(list(dat1['hours']))**: same\n",
    "3. **dat1['hours'].apply(pd.Series)**: Tooooooo slow"
   ]
  },
  {
   "cell_type": "code",
   "execution_count": 12,
   "metadata": {},
   "outputs": [],
   "source": [
    "dat1.to_csv('D:\\\\Projects\\\\Yelp\\\\Data\\\\bus_train_hours_expand.csv')"
   ]
  }
 ],
 "metadata": {
  "kernelspec": {
   "display_name": "Python 3",
   "language": "python",
   "name": "python3"
  },
  "language_info": {
   "codemirror_mode": {
    "name": "ipython",
    "version": 3
   },
   "file_extension": ".py",
   "mimetype": "text/x-python",
   "name": "python",
   "nbconvert_exporter": "python",
   "pygments_lexer": "ipython3",
   "version": "3.7.2"
  }
 },
 "nbformat": 4,
 "nbformat_minor": 2
}
