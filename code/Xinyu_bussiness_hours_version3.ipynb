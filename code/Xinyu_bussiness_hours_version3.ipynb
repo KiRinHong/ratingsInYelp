{
 "cells": [
  {
   "cell_type": "markdown",
   "metadata": {},
   "source": [
    "# Hours variable calculation"
   ]
  },
  {
   "cell_type": "code",
   "execution_count": 3,
   "metadata": {},
   "outputs": [],
   "source": [
    "import os, sys, json, csv, ast, math, re\n",
    "import numpy as np\n",
    "import pandas as pd\n",
    "from pandas import DataFrame\n",
    "from ast import literal_eval\n",
    "import datetime"
   ]
  },
  {
   "cell_type": "code",
   "execution_count": 7,
   "metadata": {},
   "outputs": [
    {
     "name": "stdout",
     "output_type": "stream",
     "text": [
      "Current working directory is: C:\\Users\\25982\\Desktop\\M2\n"
     ]
    }
   ],
   "source": [
    "path = \"C:\\\\Users\\\\25982\\\\Dropbox\\\\STAT 628 Module 2 Yelp\"\n",
    "path_bus_train_expand= path+\"\\\\bus_test_expand.csv\"\n",
    "print(\"Current working directory is: \"+os.getcwd())"
   ]
  },
  {
   "cell_type": "code",
   "execution_count": 134,
   "metadata": {},
   "outputs": [
    {
     "data": {
      "text/plain": [
       "(38000, 56)"
      ]
     },
     "execution_count": 134,
     "metadata": {},
     "output_type": "execute_result"
    }
   ],
   "source": [
    "dat1 = pd.read_csv(path_bus_train_expand,index_col=0)\n",
    "print(dat1.shape)"
   ]
  },
  {
   "cell_type": "code",
   "execution_count": 137,
   "metadata": {},
   "outputs": [],
   "source": [
    "dat1[['Monday_open','Monday_close']]=dat1.pop('Monday').str.extract('(.*)-(.*)',  expand=True)\n",
    "dat1[['Tuesday_open','Tuesday_close']]=dat1.pop('Tuesday').str.extract('(.*)-(.*)',  expand=True)\n",
    "dat1[['Wednesday_open','Wednesday_close']]=dat1.pop('Wednesday').str.extract('(.*)-(Sunday.*)',  expand=True)\n",
    "dat1[['Thursday_open','Thursday_close']]=dat1.pop('Thursday').str.extract('(.*)-(.*)',  expand=True)\n",
    "dat1[['Friday_open','Friday_close']]=dat1.pop('Friday').str.extract('(.*)-(.*)',  expand=True)\n",
    "dat1[['Saturday_open','Saturday_close']]=dat1.pop('Saturday').str.extract('(.*)-(.*)',  expand=True)\n",
    "dat1[['Sunday_open','Sunday_close']]=dat1.pop('Sunday').str.extract('(.*)-(.*)',  expand=True)"
   ]
  },
  {
   "cell_type": "code",
   "execution_count": 140,
   "metadata": {},
   "outputs": [],
   "source": [
    "week_day = [\"Monday\", \"Tuesday\" ,\"Wednesday\", \"Thursday\", \"Friday\", \"Saturday\", \"Sunday\"]\n",
    "for temp_day in week_day:\n",
    "    time_open = dat1[temp_day+'_open'].replace(np.nan, '', regex=True)\n",
    "    time_open_datetime = (pd.Series ([datetime.datetime.strptime(item, \"%H:%M\") if item != '' else None\n",
    "                                     for item in time_open ]))\n",
    "    time_close = dat1[temp_day+'_close'].replace(np.nan, '', regex=True)\n",
    "    time_close_datetime = (pd.Series ([datetime.datetime.strptime(item, \"%H:%M\") if item != '' else None\n",
    "                                     for item in time_close ]))\n",
    "    time_diff_1=(time_close_datetime-time_open_datetime)/np.timedelta64(1, 'h')\n",
    "    time_diff_1[time_diff_1 <= 0]=time_diff_1[time_diff_1 <= 0]+24\n",
    "    time_diff_1[time_diff_1.isnull() & dat1[['hours']].notnull().iloc[:,0]] = 0\n",
    "    dat1[temp_day+\"_hours\"] = time_diff_1"
   ]
  },
  {
   "cell_type": "code",
   "execution_count": 141,
   "metadata": {},
   "outputs": [
    {
     "data": {
      "text/html": [
       "<div>\n",
       "<style scoped>\n",
       "    .dataframe tbody tr th:only-of-type {\n",
       "        vertical-align: middle;\n",
       "    }\n",
       "\n",
       "    .dataframe tbody tr th {\n",
       "        vertical-align: top;\n",
       "    }\n",
       "\n",
       "    .dataframe thead th {\n",
       "        text-align: right;\n",
       "    }\n",
       "</style>\n",
       "<table border=\"1\" class=\"dataframe\">\n",
       "  <thead>\n",
       "    <tr style=\"text-align: right;\">\n",
       "      <th></th>\n",
       "      <th>Sunday_open</th>\n",
       "      <th>Sunday_close</th>\n",
       "      <th>Sunday_hours</th>\n",
       "    </tr>\n",
       "  </thead>\n",
       "  <tbody>\n",
       "    <tr>\n",
       "      <th>0</th>\n",
       "      <td>9:0</td>\n",
       "      <td>0:0</td>\n",
       "      <td>15.0</td>\n",
       "    </tr>\n",
       "    <tr>\n",
       "      <th>1</th>\n",
       "      <td>NaN</td>\n",
       "      <td>NaN</td>\n",
       "      <td>0.0</td>\n",
       "    </tr>\n",
       "    <tr>\n",
       "      <th>2</th>\n",
       "      <td>NaN</td>\n",
       "      <td>NaN</td>\n",
       "      <td>0.0</td>\n",
       "    </tr>\n",
       "    <tr>\n",
       "      <th>3</th>\n",
       "      <td>11:0</td>\n",
       "      <td>18:0</td>\n",
       "      <td>7.0</td>\n",
       "    </tr>\n",
       "    <tr>\n",
       "      <th>4</th>\n",
       "      <td>9:0</td>\n",
       "      <td>21:0</td>\n",
       "      <td>12.0</td>\n",
       "    </tr>\n",
       "  </tbody>\n",
       "</table>\n",
       "</div>"
      ],
      "text/plain": [
       "  Sunday_open Sunday_close  Sunday_hours\n",
       "0         9:0          0:0          15.0\n",
       "1         NaN          NaN           0.0\n",
       "2         NaN          NaN           0.0\n",
       "3        11:0         18:0           7.0\n",
       "4         9:0         21:0          12.0"
      ]
     },
     "execution_count": 141,
     "metadata": {},
     "output_type": "execute_result"
    }
   ],
   "source": [
    "dat1[[\"Sunday_open\",\"Sunday_close\", \"Sunday_hours\"]].head()"
   ]
  },
  {
   "cell_type": "code",
   "execution_count": 142,
   "metadata": {},
   "outputs": [],
   "source": [
    "for temp_day in week_day:\n",
    "        dat1=dat1.drop(columns=[temp_day+'_open',temp_day+'_close'])"
   ]
  },
  {
   "cell_type": "code",
   "execution_count": 148,
   "metadata": {},
   "outputs": [
    {
     "data": {
      "text/html": [
       "<div>\n",
       "<style scoped>\n",
       "    .dataframe tbody tr th:only-of-type {\n",
       "        vertical-align: middle;\n",
       "    }\n",
       "\n",
       "    .dataframe tbody tr th {\n",
       "        vertical-align: top;\n",
       "    }\n",
       "\n",
       "    .dataframe thead th {\n",
       "        text-align: right;\n",
       "    }\n",
       "</style>\n",
       "<table border=\"1\" class=\"dataframe\">\n",
       "  <thead>\n",
       "    <tr style=\"text-align: right;\">\n",
       "      <th></th>\n",
       "      <th>business_id</th>\n",
       "      <th>name</th>\n",
       "      <th>city</th>\n",
       "      <th>state</th>\n",
       "      <th>postal_code</th>\n",
       "      <th>latitude</th>\n",
       "      <th>longitude</th>\n",
       "      <th>is_open</th>\n",
       "      <th>attributes</th>\n",
       "      <th>categories</th>\n",
       "      <th>...</th>\n",
       "      <th>ByAppointmentOnly</th>\n",
       "      <th>WheelchairAccessible</th>\n",
       "      <th>RestaurantsTakeOut</th>\n",
       "      <th>Monday_hours</th>\n",
       "      <th>Tuesday_hours</th>\n",
       "      <th>Wednesday_hours</th>\n",
       "      <th>Thursday_hours</th>\n",
       "      <th>Friday_hours</th>\n",
       "      <th>Saturday_hours</th>\n",
       "      <th>Sunday_hours</th>\n",
       "    </tr>\n",
       "  </thead>\n",
       "  <tbody>\n",
       "    <tr>\n",
       "      <th>1</th>\n",
       "      <td>148476</td>\n",
       "      <td>The UPS Store</td>\n",
       "      <td>Mississauga</td>\n",
       "      <td>ON</td>\n",
       "      <td>L5V 0B1</td>\n",
       "      <td>43.599475</td>\n",
       "      <td>-79.711584</td>\n",
       "      <td>1</td>\n",
       "      <td>{'BusinessParking': \"{'garage': False, 'street...</td>\n",
       "      <td>Shipping Centers, Couriers &amp; Delivery Services...</td>\n",
       "      <td>...</td>\n",
       "      <td>NaN</td>\n",
       "      <td>NaN</td>\n",
       "      <td>NaN</td>\n",
       "      <td>10.0</td>\n",
       "      <td>11.0</td>\n",
       "      <td>0</td>\n",
       "      <td>11.0</td>\n",
       "      <td>10.0</td>\n",
       "      <td>6.0</td>\n",
       "      <td>0.0</td>\n",
       "    </tr>\n",
       "    <tr>\n",
       "      <th>2</th>\n",
       "      <td>86835</td>\n",
       "      <td>Knot Salon</td>\n",
       "      <td>Scottsdale</td>\n",
       "      <td>AZ</td>\n",
       "      <td>85254</td>\n",
       "      <td>33.600071</td>\n",
       "      <td>-111.977371</td>\n",
       "      <td>1</td>\n",
       "      <td>{'BusinessAcceptsCreditCards': 'True', 'Busine...</td>\n",
       "      <td>Hair Stylists, Beauty &amp; Spas, Hair Salons, Men...</td>\n",
       "      <td>...</td>\n",
       "      <td>True</td>\n",
       "      <td>NaN</td>\n",
       "      <td>NaN</td>\n",
       "      <td>24.0</td>\n",
       "      <td>10.0</td>\n",
       "      <td>0</td>\n",
       "      <td>10.0</td>\n",
       "      <td>9.0</td>\n",
       "      <td>9.0</td>\n",
       "      <td>0.0</td>\n",
       "    </tr>\n",
       "    <tr>\n",
       "      <th>6</th>\n",
       "      <td>78312</td>\n",
       "      <td>Pine Village Apartments</td>\n",
       "      <td>Las Vegas</td>\n",
       "      <td>NV</td>\n",
       "      <td>89102</td>\n",
       "      <td>36.138452</td>\n",
       "      <td>-115.198019</td>\n",
       "      <td>1</td>\n",
       "      <td>NaN</td>\n",
       "      <td>Home Services, Real Estate, Apartments</td>\n",
       "      <td>...</td>\n",
       "      <td>NaN</td>\n",
       "      <td>NaN</td>\n",
       "      <td>NaN</td>\n",
       "      <td>NaN</td>\n",
       "      <td>NaN</td>\n",
       "      <td>NaN</td>\n",
       "      <td>NaN</td>\n",
       "      <td>NaN</td>\n",
       "      <td>NaN</td>\n",
       "      <td>NaN</td>\n",
       "    </tr>\n",
       "    <tr>\n",
       "      <th>7</th>\n",
       "      <td>155769</td>\n",
       "      <td>Bruster's Real Ice Cream</td>\n",
       "      <td>Gilbert</td>\n",
       "      <td>AZ</td>\n",
       "      <td>85233</td>\n",
       "      <td>33.320386</td>\n",
       "      <td>-111.804652</td>\n",
       "      <td>0</td>\n",
       "      <td>{'BusinessAcceptsCreditCards': 'True', 'BikePa...</td>\n",
       "      <td>Food, Desserts, Juice Bars &amp; Smoothies, Ice Cr...</td>\n",
       "      <td>...</td>\n",
       "      <td>NaN</td>\n",
       "      <td>True</td>\n",
       "      <td>False</td>\n",
       "      <td>9.0</td>\n",
       "      <td>9.0</td>\n",
       "      <td>0</td>\n",
       "      <td>9.0</td>\n",
       "      <td>10.0</td>\n",
       "      <td>10.0</td>\n",
       "      <td>9.0</td>\n",
       "    </tr>\n",
       "  </tbody>\n",
       "</table>\n",
       "<p>4 rows × 56 columns</p>\n",
       "</div>"
      ],
      "text/plain": [
       "   business_id                      name         city state postal_code  \\\n",
       "1       148476             The UPS Store  Mississauga    ON     L5V 0B1   \n",
       "2        86835                Knot Salon   Scottsdale    AZ       85254   \n",
       "6        78312   Pine Village Apartments    Las Vegas    NV       89102   \n",
       "7       155769  Bruster's Real Ice Cream      Gilbert    AZ       85233   \n",
       "\n",
       "    latitude   longitude  is_open  \\\n",
       "1  43.599475  -79.711584        1   \n",
       "2  33.600071 -111.977371        1   \n",
       "6  36.138452 -115.198019        1   \n",
       "7  33.320386 -111.804652        0   \n",
       "\n",
       "                                          attributes  \\\n",
       "1  {'BusinessParking': \"{'garage': False, 'street...   \n",
       "2  {'BusinessAcceptsCreditCards': 'True', 'Busine...   \n",
       "6                                                NaN   \n",
       "7  {'BusinessAcceptsCreditCards': 'True', 'BikePa...   \n",
       "\n",
       "                                          categories  ... ByAppointmentOnly  \\\n",
       "1  Shipping Centers, Couriers & Delivery Services...  ...               NaN   \n",
       "2  Hair Stylists, Beauty & Spas, Hair Salons, Men...  ...              True   \n",
       "6             Home Services, Real Estate, Apartments  ...               NaN   \n",
       "7  Food, Desserts, Juice Bars & Smoothies, Ice Cr...  ...               NaN   \n",
       "\n",
       "  WheelchairAccessible RestaurantsTakeOut Monday_hours Tuesday_hours  \\\n",
       "1                  NaN                NaN         10.0          11.0   \n",
       "2                  NaN                NaN         24.0          10.0   \n",
       "6                  NaN                NaN          NaN           NaN   \n",
       "7                 True              False          9.0           9.0   \n",
       "\n",
       "  Wednesday_hours Thursday_hours Friday_hours Saturday_hours Sunday_hours  \n",
       "1               0           11.0         10.0            6.0          0.0  \n",
       "2               0           10.0          9.0            9.0          0.0  \n",
       "6             NaN            NaN          NaN            NaN          NaN  \n",
       "7               0            9.0         10.0           10.0          9.0  \n",
       "\n",
       "[4 rows x 56 columns]"
      ]
     },
     "execution_count": 148,
     "metadata": {},
     "output_type": "execute_result"
    }
   ],
   "source": [
    "dat1.iloc[[1,2,6,7]]"
   ]
  },
  {
   "cell_type": "code",
   "execution_count": 144,
   "metadata": {},
   "outputs": [
    {
     "data": {
      "text/plain": [
       "(38000, 56)"
      ]
     },
     "execution_count": 144,
     "metadata": {},
     "output_type": "execute_result"
    }
   ],
   "source": [
    "dat1.shape"
   ]
  },
  {
   "cell_type": "code",
   "execution_count": 147,
   "metadata": {},
   "outputs": [],
   "source": [
    "dat1.to_csv('D:\\\\Projects\\\\Yelp\\\\Data\\\\bussiness_train_version3.csv')"
   ]
  }
 ],
 "metadata": {
  "kernelspec": {
   "display_name": "Python 3",
   "language": "python",
   "name": "python3"
  },
  "language_info": {
   "codemirror_mode": {
    "name": "ipython",
    "version": 3
   },
   "file_extension": ".py",
   "mimetype": "text/x-python",
   "name": "python",
   "nbconvert_exporter": "python",
   "pygments_lexer": "ipython3",
   "version": "3.7.2"
  }
 },
 "nbformat": 4,
 "nbformat_minor": 2
}
