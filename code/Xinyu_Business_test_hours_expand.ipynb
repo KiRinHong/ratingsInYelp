{
 "cells": [
  {
   "cell_type": "markdown",
   "metadata": {},
   "source": [
    "# Category Transformation"
   ]
  },
  {
   "cell_type": "code",
   "execution_count": 13,
   "metadata": {},
   "outputs": [],
   "source": [
    "import os, sys, json, csv, ast, math, re\n",
    "import numpy as np\n",
    "import pandas as pd\n",
    "from pandas import DataFrame\n",
    "from ast import literal_eval"
   ]
  },
  {
   "cell_type": "code",
   "execution_count": 14,
   "metadata": {},
   "outputs": [],
   "source": [
    "bus_test_expand = \"C:\\\\Users\\\\25982\\\\Dropbox\\\\STAT 628 Module 2 Yelp\\\\bus_test_expand.csv\""
   ]
  },
  {
   "cell_type": "code",
   "execution_count": 15,
   "metadata": {},
   "outputs": [],
   "source": [
    "dat1 = pd.read_csv(bus_test_expand)"
   ]
  },
  {
   "cell_type": "markdown",
   "metadata": {},
   "source": [
    "# Analyze hours"
   ]
  },
  {
   "cell_type": "code",
   "execution_count": 16,
   "metadata": {},
   "outputs": [
    {
     "data": {
      "text/plain": [
       "0      9:0-0:0\n",
       "1     9:0-19:0\n",
       "2      0:0-0:0\n",
       "3    10:0-20:0\n",
       "4     8:0-21:0\n",
       "Name: Monday, dtype: object"
      ]
     },
     "execution_count": 16,
     "metadata": {},
     "output_type": "execute_result"
    }
   ],
   "source": [
    "dat1['Monday'].head() # Exist NaN"
   ]
  },
  {
   "cell_type": "code",
   "execution_count": 17,
   "metadata": {},
   "outputs": [],
   "source": [
    "#dat1.dtypes"
   ]
  },
  {
   "cell_type": "code",
   "execution_count": 18,
   "metadata": {},
   "outputs": [],
   "source": [
    "dat1[['Monday_open','Monday_close']]=dat1.pop('Monday').str.extract('(.*)-(.*)',  expand=True)\n",
    "dat1[['Tuesday_open','Tuesday_close']]=dat1.pop('Tuesday').str.extract('(.*)-(.*)',  expand=True)\n",
    "dat1[['Wednesday_open','Wednesday_close']]=dat1.pop('Wednesday').str.extract('(.*)-(.*)',  expand=True)\n",
    "dat1[['Thursday_open','Thursday_close']]=dat1.pop('Thursday').str.extract('(.*)-(.*)',  expand=True)\n",
    "dat1[['Friday_open','Friday_close']]=dat1.pop('Friday').str.extract('(.*)-(.*)',  expand=True)\n",
    "dat1[['Saturday_open','Saturday_close']]=dat1.pop('Saturday').str.extract('(.*)-(.*)',  expand=True)\n",
    "dat1[['Sunday_open','Sunday_close']]=dat1.pop('Sunday').str.extract('(.*)-(.*)',  expand=True)"
   ]
  },
  {
   "cell_type": "code",
   "execution_count": 19,
   "metadata": {},
   "outputs": [
    {
     "data": {
      "text/plain": [
       "Unnamed: 0                      int64\n",
       "business_id                     int64\n",
       "name                           object\n",
       "city                           object\n",
       "state                          object\n",
       "postal_code                    object\n",
       "latitude                      float64\n",
       "longitude                     float64\n",
       "is_open                         int64\n",
       "attributes                     object\n",
       "categories                     object\n",
       "hours                          object\n",
       "WiFi                           object\n",
       "AgesAllowed                    object\n",
       "DogsAllowed                    object\n",
       "HairSpecializesIn              object\n",
       "RestaurantsAttire              object\n",
       "NoiseLevel                     object\n",
       "BikeParking                    object\n",
       "BYOBCorkage                    object\n",
       "GoodForDancing                 object\n",
       "Smoking                        object\n",
       "GoodForMeal                    object\n",
       "Ambience                       object\n",
       "BYOB                           object\n",
       "RestaurantsDelivery            object\n",
       "AcceptsInsurance               object\n",
       "Open24Hours                    object\n",
       "HappyHour                      object\n",
       "BusinessAcceptsCreditCards     object\n",
       "                               ...   \n",
       "OutdoorSeating                 object\n",
       "RestaurantsPriceRange2         object\n",
       "DriveThru                      object\n",
       "CoatCheck                      object\n",
       "HasTV                          object\n",
       "GoodForKids                    object\n",
       "DietaryRestrictions            object\n",
       "Alcohol                        object\n",
       "RestaurantsReservations        object\n",
       "BestNights                     object\n",
       "BusinessAcceptsBitcoin         object\n",
       "BusinessParking                object\n",
       "RestaurantsGoodForGroups       object\n",
       "ByAppointmentOnly              object\n",
       "WheelchairAccessible           object\n",
       "RestaurantsTakeOut             object\n",
       "Monday_open                    object\n",
       "Monday_close                   object\n",
       "Tuesday_open                   object\n",
       "Tuesday_close                  object\n",
       "Wednesday_open                 object\n",
       "Wednesday_close                object\n",
       "Thursday_open                  object\n",
       "Thursday_close                 object\n",
       "Friday_open                    object\n",
       "Friday_close                   object\n",
       "Saturday_open                  object\n",
       "Saturday_close                 object\n",
       "Sunday_open                    object\n",
       "Sunday_close                   object\n",
       "Length: 64, dtype: object"
      ]
     },
     "execution_count": 19,
     "metadata": {},
     "output_type": "execute_result"
    }
   ],
   "source": [
    "#dat1[['Sunday_open','Sunday_close']]=dat1['Sunday'].str.extract('(.*)-(.*)',  expand=True)\n",
    "#dat1[['Sunday_open','Sunday_close']]=dat1.pop('Sunday').str.extract('(.*)-(.*)',  expand=True)\n",
    "dat1.dtypes"
   ]
  },
  {
   "cell_type": "markdown",
   "metadata": {},
   "source": [
    "1. **pd.DataFrame.from_dict(hours_1)**: still the same\n",
    "2. **pd.DataFrame(list(dat1['hours']))**: same\n",
    "3. **dat1['hours'].apply(pd.Series)**: Tooooooo slow"
   ]
  },
  {
   "cell_type": "code",
   "execution_count": 21,
   "metadata": {},
   "outputs": [],
   "source": [
    "dat1.to_csv('D:\\\\Projects\\\\Yelp\\\\Data\\\\bus_test_hours_expand.csv')"
   ]
  },
  {
   "cell_type": "code",
   "execution_count": null,
   "metadata": {},
   "outputs": [],
   "source": []
  },
  {
   "cell_type": "code",
   "execution_count": null,
   "metadata": {},
   "outputs": [],
   "source": []
  },
  {
   "cell_type": "code",
   "execution_count": null,
   "metadata": {},
   "outputs": [],
   "source": []
  },
  {
   "cell_type": "code",
   "execution_count": null,
   "metadata": {},
   "outputs": [],
   "source": []
  },
  {
   "cell_type": "code",
   "execution_count": null,
   "metadata": {},
   "outputs": [],
   "source": []
  },
  {
   "cell_type": "code",
   "execution_count": null,
   "metadata": {},
   "outputs": [],
   "source": []
  },
  {
   "cell_type": "code",
   "execution_count": null,
   "metadata": {},
   "outputs": [],
   "source": []
  }
 ],
 "metadata": {
  "kernelspec": {
   "display_name": "Python 3",
   "language": "python",
   "name": "python3"
  },
  "language_info": {
   "codemirror_mode": {
    "name": "ipython",
    "version": 3
   },
   "file_extension": ".py",
   "mimetype": "text/x-python",
   "name": "python",
   "nbconvert_exporter": "python",
   "pygments_lexer": "ipython3",
   "version": "3.7.2"
  }
 },
 "nbformat": 4,
 "nbformat_minor": 2
}
