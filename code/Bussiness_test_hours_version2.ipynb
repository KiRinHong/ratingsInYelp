{
 "cells": [
  {
   "cell_type": "markdown",
   "metadata": {},
   "source": [
    "# Hours variable calculation"
   ]
  },
  {
   "cell_type": "code",
   "execution_count": 16,
   "metadata": {},
   "outputs": [],
   "source": [
    "import os, sys, json, csv, ast, math, re\n",
    "import numpy as np\n",
    "import pandas as pd\n",
    "from pandas import DataFrame\n",
    "from ast import literal_eval\n",
    "import datetime"
   ]
  },
  {
   "cell_type": "code",
   "execution_count": 5,
   "metadata": {},
   "outputs": [
    {
     "data": {
      "text/plain": [
       "'D:\\\\Projects\\\\Yelp\\\\Data'"
      ]
     },
     "execution_count": 5,
     "metadata": {},
     "output_type": "execute_result"
    }
   ],
   "source": [
    "os.getcwd()"
   ]
  },
  {
   "cell_type": "code",
   "execution_count": 11,
   "metadata": {},
   "outputs": [],
   "source": [
    "path= \"D:\\\\Projects\\\\Yelp\\\\Data\"\n",
    "os.chdir(path)"
   ]
  },
  {
   "cell_type": "code",
   "execution_count": 12,
   "metadata": {},
   "outputs": [],
   "source": [
    "path_bus_train_expand= path+\"\\\\bus_test_expand.csv\""
   ]
  },
  {
   "cell_type": "code",
   "execution_count": 13,
   "metadata": {},
   "outputs": [
    {
     "name": "stderr",
     "output_type": "stream",
     "text": [
      "C:\\Users\\25982\\AppData\\Local\\conda\\conda\\envs\\stat 628\\lib\\site-packages\\IPython\\core\\interactiveshell.py:3020: DtypeWarning: Columns (24,27) have mixed types. Specify dtype option on import or set low_memory=False.\n",
      "  interactivity=interactivity, compiler=compiler, result=result)\n"
     ]
    },
    {
     "data": {
      "text/plain": [
       "(38000, 57)"
      ]
     },
     "execution_count": 13,
     "metadata": {},
     "output_type": "execute_result"
    }
   ],
   "source": [
    "dat1 = pd.read_csv(path_bus_train_expand)\n",
    "dat1.shape"
   ]
  },
  {
   "cell_type": "code",
   "execution_count": 14,
   "metadata": {},
   "outputs": [],
   "source": [
    "dat1[['Monday_open','Monday_close']]=dat1.pop('Monday').str.extract('(.*)-(.*)',  expand=True)\n",
    "dat1[['Tuesday_open','Tuesday_close']]=dat1.pop('Tuesday').str.extract('(.*)-(.*)',  expand=True)\n",
    "dat1[['Wednesday_open','Wednesday_close']]=dat1.pop('Wednesday').str.extract('(.*)-(.*)',  expand=True)\n",
    "dat1[['Thursday_open','Thursday_close']]=dat1.pop('Thursday').str.extract('(.*)-(.*)',  expand=True)\n",
    "dat1[['Friday_open','Friday_close']]=dat1.pop('Friday').str.extract('(.*)-(.*)',  expand=True)\n",
    "dat1[['Saturday_open','Saturday_close']]=dat1.pop('Saturday').str.extract('(.*)-(.*)',  expand=True)\n",
    "dat1[['Sunday_open','Sunday_close']]=dat1.pop('Sunday').str.extract('(.*)-(.*)',  expand=True)"
   ]
  },
  {
   "cell_type": "code",
   "execution_count": 17,
   "metadata": {},
   "outputs": [],
   "source": [
    "week_day = [\"Monday\", \"Tuesday\" ,\"Wednesday\", \"Thursday\", \"Friday\", \"Saturday\", \"Sunday\"]\n",
    "for temp_day in week_day:\n",
    "    time_open = dat1[temp_day+'_open'].replace(np.nan, '', regex=True)\n",
    "    time_open_datetime = (pd.Series ([datetime.datetime.strptime(item, \"%H:%M\") if item != '' else None\n",
    "                                     for item in time_open ]))\n",
    "    time_close = dat1[temp_day+'_close'].replace(np.nan, '', regex=True)\n",
    "    time_close_datetime = (pd.Series ([datetime.datetime.strptime(item, \"%H:%M\") if item != '' else None\n",
    "                                     for item in time_close ]))\n",
    "    time_diff_1=(time_close_datetime-time_open_datetime)/np.timedelta64(1, 'h')\n",
    "    time_diff_1[time_diff_1 < 0]=time_diff_1[time_diff_1 < 0]+24\n",
    "    time_diff_1[time_diff_1 == 0] = None\n",
    "    dat1[temp_day+\"_hours\"] = time_diff_1"
   ]
  },
  {
   "cell_type": "code",
   "execution_count": 18,
   "metadata": {},
   "outputs": [
    {
     "data": {
      "text/html": [
       "<div>\n",
       "<style scoped>\n",
       "    .dataframe tbody tr th:only-of-type {\n",
       "        vertical-align: middle;\n",
       "    }\n",
       "\n",
       "    .dataframe tbody tr th {\n",
       "        vertical-align: top;\n",
       "    }\n",
       "\n",
       "    .dataframe thead th {\n",
       "        text-align: right;\n",
       "    }\n",
       "</style>\n",
       "<table border=\"1\" class=\"dataframe\">\n",
       "  <thead>\n",
       "    <tr style=\"text-align: right;\">\n",
       "      <th></th>\n",
       "      <th>Monday_open</th>\n",
       "      <th>Monday_close</th>\n",
       "      <th>Monday_hours</th>\n",
       "    </tr>\n",
       "  </thead>\n",
       "  <tbody>\n",
       "    <tr>\n",
       "      <th>0</th>\n",
       "      <td>9:0</td>\n",
       "      <td>0:0</td>\n",
       "      <td>15.0</td>\n",
       "    </tr>\n",
       "    <tr>\n",
       "      <th>1</th>\n",
       "      <td>9:0</td>\n",
       "      <td>19:0</td>\n",
       "      <td>10.0</td>\n",
       "    </tr>\n",
       "    <tr>\n",
       "      <th>2</th>\n",
       "      <td>0:0</td>\n",
       "      <td>0:0</td>\n",
       "      <td>NaN</td>\n",
       "    </tr>\n",
       "    <tr>\n",
       "      <th>3</th>\n",
       "      <td>10:0</td>\n",
       "      <td>20:0</td>\n",
       "      <td>10.0</td>\n",
       "    </tr>\n",
       "    <tr>\n",
       "      <th>4</th>\n",
       "      <td>8:0</td>\n",
       "      <td>21:0</td>\n",
       "      <td>13.0</td>\n",
       "    </tr>\n",
       "  </tbody>\n",
       "</table>\n",
       "</div>"
      ],
      "text/plain": [
       "  Monday_open Monday_close  Monday_hours\n",
       "0         9:0          0:0          15.0\n",
       "1         9:0         19:0          10.0\n",
       "2         0:0          0:0           NaN\n",
       "3        10:0         20:0          10.0\n",
       "4         8:0         21:0          13.0"
      ]
     },
     "execution_count": 18,
     "metadata": {},
     "output_type": "execute_result"
    }
   ],
   "source": [
    "dat1[[\"Monday_open\",\"Monday_close\", \"Monday_hours\"]].head()"
   ]
  },
  {
   "cell_type": "code",
   "execution_count": 19,
   "metadata": {},
   "outputs": [],
   "source": [
    "for temp_day in week_day:\n",
    "        dat1=dat1.drop(columns=[temp_day+'_open',temp_day+'_close'])"
   ]
  },
  {
   "cell_type": "code",
   "execution_count": 20,
   "metadata": {},
   "outputs": [
    {
     "data": {
      "text/html": [
       "<div>\n",
       "<style scoped>\n",
       "    .dataframe tbody tr th:only-of-type {\n",
       "        vertical-align: middle;\n",
       "    }\n",
       "\n",
       "    .dataframe tbody tr th {\n",
       "        vertical-align: top;\n",
       "    }\n",
       "\n",
       "    .dataframe thead th {\n",
       "        text-align: right;\n",
       "    }\n",
       "</style>\n",
       "<table border=\"1\" class=\"dataframe\">\n",
       "  <thead>\n",
       "    <tr style=\"text-align: right;\">\n",
       "      <th></th>\n",
       "      <th>Unnamed: 0</th>\n",
       "      <th>business_id</th>\n",
       "      <th>name</th>\n",
       "      <th>city</th>\n",
       "      <th>state</th>\n",
       "      <th>postal_code</th>\n",
       "      <th>latitude</th>\n",
       "      <th>longitude</th>\n",
       "      <th>is_open</th>\n",
       "      <th>attributes</th>\n",
       "      <th>...</th>\n",
       "      <th>ByAppointmentOnly</th>\n",
       "      <th>WheelchairAccessible</th>\n",
       "      <th>RestaurantsTakeOut</th>\n",
       "      <th>Monday_hours</th>\n",
       "      <th>Tuesday_hours</th>\n",
       "      <th>Wednesday_hours</th>\n",
       "      <th>Thursday_hours</th>\n",
       "      <th>Friday_hours</th>\n",
       "      <th>Saturday_hours</th>\n",
       "      <th>Sunday_hours</th>\n",
       "    </tr>\n",
       "  </thead>\n",
       "  <tbody>\n",
       "    <tr>\n",
       "      <th>0</th>\n",
       "      <td>0</td>\n",
       "      <td>141184</td>\n",
       "      <td>Emerald Chinese Restaurant</td>\n",
       "      <td>Mississauga</td>\n",
       "      <td>ON</td>\n",
       "      <td>L5R 3E7</td>\n",
       "      <td>43.605499</td>\n",
       "      <td>-79.652289</td>\n",
       "      <td>1</td>\n",
       "      <td>{'RestaurantsReservations': 'True', 'GoodForMe...</td>\n",
       "      <td>...</td>\n",
       "      <td>NaN</td>\n",
       "      <td>NaN</td>\n",
       "      <td>True</td>\n",
       "      <td>15.0</td>\n",
       "      <td>15.0</td>\n",
       "      <td>15.0</td>\n",
       "      <td>15.0</td>\n",
       "      <td>16.0</td>\n",
       "      <td>16.0</td>\n",
       "      <td>15.0</td>\n",
       "    </tr>\n",
       "    <tr>\n",
       "      <th>1</th>\n",
       "      <td>1</td>\n",
       "      <td>148476</td>\n",
       "      <td>The UPS Store</td>\n",
       "      <td>Mississauga</td>\n",
       "      <td>ON</td>\n",
       "      <td>L5V 0B1</td>\n",
       "      <td>43.599475</td>\n",
       "      <td>-79.711584</td>\n",
       "      <td>1</td>\n",
       "      <td>{'BusinessParking': \"{'garage': False, 'street...</td>\n",
       "      <td>...</td>\n",
       "      <td>NaN</td>\n",
       "      <td>NaN</td>\n",
       "      <td>NaN</td>\n",
       "      <td>10.0</td>\n",
       "      <td>11.0</td>\n",
       "      <td>11.0</td>\n",
       "      <td>11.0</td>\n",
       "      <td>10.0</td>\n",
       "      <td>6.0</td>\n",
       "      <td>NaN</td>\n",
       "    </tr>\n",
       "    <tr>\n",
       "      <th>2</th>\n",
       "      <td>2</td>\n",
       "      <td>86835</td>\n",
       "      <td>Knot Salon</td>\n",
       "      <td>Scottsdale</td>\n",
       "      <td>AZ</td>\n",
       "      <td>85254</td>\n",
       "      <td>33.600071</td>\n",
       "      <td>-111.977371</td>\n",
       "      <td>1</td>\n",
       "      <td>{'BusinessAcceptsCreditCards': 'True', 'Busine...</td>\n",
       "      <td>...</td>\n",
       "      <td>True</td>\n",
       "      <td>NaN</td>\n",
       "      <td>NaN</td>\n",
       "      <td>NaN</td>\n",
       "      <td>10.0</td>\n",
       "      <td>8.0</td>\n",
       "      <td>10.0</td>\n",
       "      <td>9.0</td>\n",
       "      <td>9.0</td>\n",
       "      <td>NaN</td>\n",
       "    </tr>\n",
       "    <tr>\n",
       "      <th>3</th>\n",
       "      <td>3</td>\n",
       "      <td>116708</td>\n",
       "      <td>Maurices</td>\n",
       "      <td>Las Vegas</td>\n",
       "      <td>NV</td>\n",
       "      <td>89149</td>\n",
       "      <td>36.271546</td>\n",
       "      <td>-115.264484</td>\n",
       "      <td>1</td>\n",
       "      <td>{'BusinessAcceptsCreditCards': 'True', 'Busine...</td>\n",
       "      <td>...</td>\n",
       "      <td>NaN</td>\n",
       "      <td>NaN</td>\n",
       "      <td>NaN</td>\n",
       "      <td>10.0</td>\n",
       "      <td>10.0</td>\n",
       "      <td>10.0</td>\n",
       "      <td>10.0</td>\n",
       "      <td>10.0</td>\n",
       "      <td>10.0</td>\n",
       "      <td>7.0</td>\n",
       "    </tr>\n",
       "    <tr>\n",
       "      <th>4</th>\n",
       "      <td>4</td>\n",
       "      <td>59216</td>\n",
       "      <td>Bolt Fresh Bar</td>\n",
       "      <td>Toronto</td>\n",
       "      <td>ON</td>\n",
       "      <td>M6J 1J5</td>\n",
       "      <td>43.642889</td>\n",
       "      <td>-79.425429</td>\n",
       "      <td>1</td>\n",
       "      <td>{'WiFi': \"u'no'\", 'BikeParking': 'True', 'Rest...</td>\n",
       "      <td>...</td>\n",
       "      <td>NaN</td>\n",
       "      <td>NaN</td>\n",
       "      <td>True</td>\n",
       "      <td>13.0</td>\n",
       "      <td>13.0</td>\n",
       "      <td>13.0</td>\n",
       "      <td>13.0</td>\n",
       "      <td>13.0</td>\n",
       "      <td>12.0</td>\n",
       "      <td>12.0</td>\n",
       "    </tr>\n",
       "  </tbody>\n",
       "</table>\n",
       "<p>5 rows × 57 columns</p>\n",
       "</div>"
      ],
      "text/plain": [
       "   Unnamed: 0  business_id                        name         city state  \\\n",
       "0           0       141184  Emerald Chinese Restaurant  Mississauga    ON   \n",
       "1           1       148476               The UPS Store  Mississauga    ON   \n",
       "2           2        86835                  Knot Salon   Scottsdale    AZ   \n",
       "3           3       116708                    Maurices    Las Vegas    NV   \n",
       "4           4        59216              Bolt Fresh Bar      Toronto    ON   \n",
       "\n",
       "  postal_code   latitude   longitude  is_open  \\\n",
       "0     L5R 3E7  43.605499  -79.652289        1   \n",
       "1     L5V 0B1  43.599475  -79.711584        1   \n",
       "2       85254  33.600071 -111.977371        1   \n",
       "3       89149  36.271546 -115.264484        1   \n",
       "4     M6J 1J5  43.642889  -79.425429        1   \n",
       "\n",
       "                                          attributes  ... ByAppointmentOnly  \\\n",
       "0  {'RestaurantsReservations': 'True', 'GoodForMe...  ...               NaN   \n",
       "1  {'BusinessParking': \"{'garage': False, 'street...  ...               NaN   \n",
       "2  {'BusinessAcceptsCreditCards': 'True', 'Busine...  ...              True   \n",
       "3  {'BusinessAcceptsCreditCards': 'True', 'Busine...  ...               NaN   \n",
       "4  {'WiFi': \"u'no'\", 'BikeParking': 'True', 'Rest...  ...               NaN   \n",
       "\n",
       "  WheelchairAccessible RestaurantsTakeOut Monday_hours Tuesday_hours  \\\n",
       "0                  NaN               True         15.0          15.0   \n",
       "1                  NaN                NaN         10.0          11.0   \n",
       "2                  NaN                NaN          NaN          10.0   \n",
       "3                  NaN                NaN         10.0          10.0   \n",
       "4                  NaN               True         13.0          13.0   \n",
       "\n",
       "  Wednesday_hours Thursday_hours Friday_hours Saturday_hours Sunday_hours  \n",
       "0            15.0           15.0         16.0           16.0         15.0  \n",
       "1            11.0           11.0         10.0            6.0          NaN  \n",
       "2             8.0           10.0          9.0            9.0          NaN  \n",
       "3            10.0           10.0         10.0           10.0          7.0  \n",
       "4            13.0           13.0         13.0           12.0         12.0  \n",
       "\n",
       "[5 rows x 57 columns]"
      ]
     },
     "execution_count": 20,
     "metadata": {},
     "output_type": "execute_result"
    }
   ],
   "source": [
    "dat1.head()"
   ]
  },
  {
   "cell_type": "code",
   "execution_count": 21,
   "metadata": {},
   "outputs": [
    {
     "data": {
      "text/plain": [
       "(38000, 57)"
      ]
     },
     "execution_count": 21,
     "metadata": {},
     "output_type": "execute_result"
    }
   ],
   "source": [
    "dat1.shape"
   ]
  },
  {
   "cell_type": "code",
   "execution_count": 22,
   "metadata": {},
   "outputs": [],
   "source": [
    "dat1.to_csv('bussiness_test_version3.csv')"
   ]
  },
  {
   "cell_type": "code",
   "execution_count": null,
   "metadata": {},
   "outputs": [],
   "source": []
  }
 ],
 "metadata": {
  "kernelspec": {
   "display_name": "Python 3",
   "language": "python",
   "name": "python3"
  },
  "language_info": {
   "codemirror_mode": {
    "name": "ipython",
    "version": 3
   },
   "file_extension": ".py",
   "mimetype": "text/x-python",
   "name": "python",
   "nbconvert_exporter": "python",
   "pygments_lexer": "ipython3",
   "version": "3.7.2"
  }
 },
 "nbformat": 4,
 "nbformat_minor": 2
}
