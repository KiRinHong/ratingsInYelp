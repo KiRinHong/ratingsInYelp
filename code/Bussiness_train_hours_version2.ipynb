{
 "cells": [
  {
   "cell_type": "markdown",
   "metadata": {},
   "source": [
    "# Hours variable calculation"
   ]
  },
  {
   "cell_type": "code",
   "execution_count": 253,
   "metadata": {},
   "outputs": [],
   "source": [
    "import os, sys, json, csv, ast, math, re\n",
    "import numpy as np\n",
    "import pandas as pd\n",
    "from pandas import DataFrame\n",
    "from ast import literal_eval"
   ]
  },
  {
   "cell_type": "code",
   "execution_count": 254,
   "metadata": {},
   "outputs": [],
   "source": [
    "bus_train_expand = \"bus_train_expand.csv\""
   ]
  },
  {
   "cell_type": "code",
   "execution_count": 255,
   "metadata": {},
   "outputs": [
    {
     "name": "stderr",
     "output_type": "stream",
     "text": [
      "C:\\Users\\25982\\AppData\\Local\\conda\\conda\\envs\\stat 628\\lib\\site-packages\\IPython\\core\\interactiveshell.py:3020: DtypeWarning: Columns (23,31) have mixed types. Specify dtype option on import or set low_memory=False.\n",
      "  interactivity=interactivity, compiler=compiler, result=result)\n"
     ]
    },
    {
     "data": {
      "text/plain": [
       "(154606, 57)"
      ]
     },
     "execution_count": 255,
     "metadata": {},
     "output_type": "execute_result"
    }
   ],
   "source": [
    "dat1 = pd.read_csv(bus_train_expand)\n",
    "dat1.shape"
   ]
  },
  {
   "cell_type": "code",
   "execution_count": 263,
   "metadata": {},
   "outputs": [],
   "source": [
    "dat1[['Monday_open','Monday_close']]=dat1.pop('Monday').str.extract('(.*)-(.*)',  expand=True)\n",
    "dat1[['Tuesday_open','Tuesday_close']]=dat1.pop('Tuesday').str.extract('(.*)-(.*)',  expand=True)\n",
    "dat1[['Wednesday_open','Wednesday_close']]=dat1.pop('Wednesday').str.extract('(.*)-(.*)',  expand=True)\n",
    "dat1[['Thursday_open','Thursday_close']]=dat1.pop('Thursday').str.extract('(.*)-(.*)',  expand=True)\n",
    "dat1[['Friday_open','Friday_close']]=dat1.pop('Friday').str.extract('(.*)-(.*)',  expand=True)\n",
    "dat1[['Saturday_open','Saturday_close']]=dat1.pop('Saturday').str.extract('(.*)-(.*)',  expand=True)\n",
    "dat1[['Sunday_open','Sunday_close']]=dat1.pop('Sunday').str.extract('(.*)-(.*)',  expand=True)"
   ]
  },
  {
   "cell_type": "code",
   "execution_count": 270,
   "metadata": {},
   "outputs": [],
   "source": [
    "week_day = [\"Monday\", \"Tuesday\" ,\"Wednesday\", \"Thursday\", \"Friday\", \"Saturday\", \"Sunday\"]\n",
    "for temp_day in week_day:\n",
    "    time_open = dat1[temp_day+'_open'].replace(np.nan, '', regex=True)\n",
    "    time_open_datetime = (pd.Series ([datetime.datetime.strptime(item, \"%H:%M\") if item != '' else None\n",
    "                                     for item in time_open ]))\n",
    "    time_close = dat1[temp_day+'_close'].replace(np.nan, '', regex=True)\n",
    "    time_close_datetime = (pd.Series ([datetime.datetime.strptime(item, \"%H:%M\") if item != '' else None\n",
    "                                     for item in time_close ]))\n",
    "    time_diff_1=(time_close_datetime-time_open_datetime)/np.timedelta64(1, 'h')\n",
    "    time_diff_1[time_diff_1 < 0]=time_diff_1[time_diff_1 < 0]+24\n",
    "    time_diff_1[time_diff_1 == 0] = None\n",
    "    dat1[temp_day+\"_hours\"] = time_diff_1"
   ]
  },
  {
   "cell_type": "code",
   "execution_count": 267,
   "metadata": {},
   "outputs": [
    {
     "data": {
      "text/html": [
       "<div>\n",
       "<style scoped>\n",
       "    .dataframe tbody tr th:only-of-type {\n",
       "        vertical-align: middle;\n",
       "    }\n",
       "\n",
       "    .dataframe tbody tr th {\n",
       "        vertical-align: top;\n",
       "    }\n",
       "\n",
       "    .dataframe thead th {\n",
       "        text-align: right;\n",
       "    }\n",
       "</style>\n",
       "<table border=\"1\" class=\"dataframe\">\n",
       "  <thead>\n",
       "    <tr style=\"text-align: right;\">\n",
       "      <th></th>\n",
       "      <th>Monday_open</th>\n",
       "      <th>Monday_close</th>\n",
       "      <th>Monday_hours</th>\n",
       "    </tr>\n",
       "  </thead>\n",
       "  <tbody>\n",
       "    <tr>\n",
       "      <th>0</th>\n",
       "      <td>NaN</td>\n",
       "      <td>NaN</td>\n",
       "      <td>NaN</td>\n",
       "    </tr>\n",
       "    <tr>\n",
       "      <th>1</th>\n",
       "      <td>17:30</td>\n",
       "      <td>21:30</td>\n",
       "      <td>4.0</td>\n",
       "    </tr>\n",
       "    <tr>\n",
       "      <th>2</th>\n",
       "      <td>8:0</td>\n",
       "      <td>17:0</td>\n",
       "      <td>9.0</td>\n",
       "    </tr>\n",
       "    <tr>\n",
       "      <th>3</th>\n",
       "      <td>7:0</td>\n",
       "      <td>23:0</td>\n",
       "      <td>16.0</td>\n",
       "    </tr>\n",
       "    <tr>\n",
       "      <th>4</th>\n",
       "      <td>NaN</td>\n",
       "      <td>NaN</td>\n",
       "      <td>NaN</td>\n",
       "    </tr>\n",
       "  </tbody>\n",
       "</table>\n",
       "</div>"
      ],
      "text/plain": [
       "  Monday_open Monday_close  Monday_hours\n",
       "0         NaN          NaN           NaN\n",
       "1       17:30        21:30           4.0\n",
       "2         8:0         17:0           9.0\n",
       "3         7:0         23:0          16.0\n",
       "4         NaN          NaN           NaN"
      ]
     },
     "execution_count": 267,
     "metadata": {},
     "output_type": "execute_result"
    }
   ],
   "source": [
    "dat1[[\"Monday_open\",\"Monday_close\", \"Monday_hours\"]].head()"
   ]
  },
  {
   "cell_type": "code",
   "execution_count": 278,
   "metadata": {},
   "outputs": [],
   "source": [
    "for temp_day in week_day:\n",
    "        dat1=dat1.drop(columns=[temp_day+'_open',temp_day+'_close'])"
   ]
  },
  {
   "cell_type": "code",
   "execution_count": 279,
   "metadata": {},
   "outputs": [
    {
     "data": {
      "text/html": [
       "<div>\n",
       "<style scoped>\n",
       "    .dataframe tbody tr th:only-of-type {\n",
       "        vertical-align: middle;\n",
       "    }\n",
       "\n",
       "    .dataframe tbody tr th {\n",
       "        vertical-align: top;\n",
       "    }\n",
       "\n",
       "    .dataframe thead th {\n",
       "        text-align: right;\n",
       "    }\n",
       "</style>\n",
       "<table border=\"1\" class=\"dataframe\">\n",
       "  <thead>\n",
       "    <tr style=\"text-align: right;\">\n",
       "      <th></th>\n",
       "      <th>business_id</th>\n",
       "      <th>name</th>\n",
       "      <th>city</th>\n",
       "      <th>state</th>\n",
       "      <th>postal_code</th>\n",
       "      <th>latitude</th>\n",
       "      <th>longitude</th>\n",
       "      <th>is_open</th>\n",
       "      <th>attributes</th>\n",
       "      <th>categories</th>\n",
       "      <th>...</th>\n",
       "      <th>GoodForKids</th>\n",
       "      <th>GoodForMeal</th>\n",
       "      <th>WheelchairAccessible</th>\n",
       "      <th>Monday_hours</th>\n",
       "      <th>Tuesday_hours</th>\n",
       "      <th>Wednesday_hours</th>\n",
       "      <th>Thursday_hours</th>\n",
       "      <th>Friday_hours</th>\n",
       "      <th>Saturday_hours</th>\n",
       "      <th>Sunday_hours</th>\n",
       "    </tr>\n",
       "  </thead>\n",
       "  <tbody>\n",
       "    <tr>\n",
       "      <th>0</th>\n",
       "      <td>3157</td>\n",
       "      <td>Arizona Biltmore Golf Club</td>\n",
       "      <td>Phoenix</td>\n",
       "      <td>AZ</td>\n",
       "      <td>85016</td>\n",
       "      <td>33.522143</td>\n",
       "      <td>-112.018481</td>\n",
       "      <td>0</td>\n",
       "      <td>{'GoodForKids': 'False'}</td>\n",
       "      <td>Golf, Active Life</td>\n",
       "      <td>...</td>\n",
       "      <td>False</td>\n",
       "      <td>NaN</td>\n",
       "      <td>NaN</td>\n",
       "      <td>NaN</td>\n",
       "      <td>NaN</td>\n",
       "      <td>NaN</td>\n",
       "      <td>NaN</td>\n",
       "      <td>NaN</td>\n",
       "      <td>NaN</td>\n",
       "      <td>NaN</td>\n",
       "    </tr>\n",
       "    <tr>\n",
       "      <th>1</th>\n",
       "      <td>23732</td>\n",
       "      <td>Musashi Japanese Restaurant</td>\n",
       "      <td>Charlotte</td>\n",
       "      <td>NC</td>\n",
       "      <td>28210</td>\n",
       "      <td>35.092564</td>\n",
       "      <td>-80.859132</td>\n",
       "      <td>1</td>\n",
       "      <td>{'GoodForKids': 'True', 'NoiseLevel': \"u'avera...</td>\n",
       "      <td>Sushi Bars, Restaurants, Japanese</td>\n",
       "      <td>...</td>\n",
       "      <td>True</td>\n",
       "      <td>{'dessert': False, 'latenight': False, 'lunch'...</td>\n",
       "      <td>NaN</td>\n",
       "      <td>4.0</td>\n",
       "      <td>NaN</td>\n",
       "      <td>4.0</td>\n",
       "      <td>4.0</td>\n",
       "      <td>4.5</td>\n",
       "      <td>4.5</td>\n",
       "      <td>3.5</td>\n",
       "    </tr>\n",
       "    <tr>\n",
       "      <th>2</th>\n",
       "      <td>53580</td>\n",
       "      <td>Farmers Insurance - Paul Lorenz</td>\n",
       "      <td>Goodyear</td>\n",
       "      <td>AZ</td>\n",
       "      <td>85338</td>\n",
       "      <td>33.455613</td>\n",
       "      <td>-112.395596</td>\n",
       "      <td>1</td>\n",
       "      <td>NaN</td>\n",
       "      <td>Insurance, Financial Services</td>\n",
       "      <td>...</td>\n",
       "      <td>NaN</td>\n",
       "      <td>NaN</td>\n",
       "      <td>NaN</td>\n",
       "      <td>9.0</td>\n",
       "      <td>9.0</td>\n",
       "      <td>9.0</td>\n",
       "      <td>9.0</td>\n",
       "      <td>9.0</td>\n",
       "      <td>NaN</td>\n",
       "      <td>NaN</td>\n",
       "    </tr>\n",
       "    <tr>\n",
       "      <th>3</th>\n",
       "      <td>27909</td>\n",
       "      <td>Queen City Plumbing</td>\n",
       "      <td>Charlotte</td>\n",
       "      <td>NC</td>\n",
       "      <td>28217</td>\n",
       "      <td>35.190012</td>\n",
       "      <td>-80.887223</td>\n",
       "      <td>1</td>\n",
       "      <td>{'BusinessAcceptsBitcoin': 'False', 'ByAppoint...</td>\n",
       "      <td>Plumbing, Shopping, Local Services, Home Servi...</td>\n",
       "      <td>...</td>\n",
       "      <td>NaN</td>\n",
       "      <td>NaN</td>\n",
       "      <td>NaN</td>\n",
       "      <td>16.0</td>\n",
       "      <td>16.0</td>\n",
       "      <td>16.0</td>\n",
       "      <td>16.0</td>\n",
       "      <td>16.0</td>\n",
       "      <td>16.0</td>\n",
       "      <td>16.0</td>\n",
       "    </tr>\n",
       "    <tr>\n",
       "      <th>4</th>\n",
       "      <td>95694</td>\n",
       "      <td>Edgeworxx Studio</td>\n",
       "      <td>Calgary</td>\n",
       "      <td>AB</td>\n",
       "      <td>T2Z 1K4</td>\n",
       "      <td>50.943646</td>\n",
       "      <td>-114.001828</td>\n",
       "      <td>1</td>\n",
       "      <td>{'RestaurantsPriceRange2': '2', 'BusinessParki...</td>\n",
       "      <td>Beauty &amp; Spas, Hair Salons</td>\n",
       "      <td>...</td>\n",
       "      <td>NaN</td>\n",
       "      <td>NaN</td>\n",
       "      <td>NaN</td>\n",
       "      <td>NaN</td>\n",
       "      <td>NaN</td>\n",
       "      <td>NaN</td>\n",
       "      <td>NaN</td>\n",
       "      <td>NaN</td>\n",
       "      <td>NaN</td>\n",
       "      <td>NaN</td>\n",
       "    </tr>\n",
       "  </tbody>\n",
       "</table>\n",
       "<p>5 rows × 57 columns</p>\n",
       "</div>"
      ],
      "text/plain": [
       "   business_id                             name       city state postal_code  \\\n",
       "0         3157       Arizona Biltmore Golf Club    Phoenix    AZ       85016   \n",
       "1        23732      Musashi Japanese Restaurant  Charlotte    NC       28210   \n",
       "2        53580  Farmers Insurance - Paul Lorenz   Goodyear    AZ       85338   \n",
       "3        27909              Queen City Plumbing  Charlotte    NC       28217   \n",
       "4        95694                 Edgeworxx Studio    Calgary    AB     T2Z 1K4   \n",
       "\n",
       "    latitude   longitude  is_open  \\\n",
       "0  33.522143 -112.018481        0   \n",
       "1  35.092564  -80.859132        1   \n",
       "2  33.455613 -112.395596        1   \n",
       "3  35.190012  -80.887223        1   \n",
       "4  50.943646 -114.001828        1   \n",
       "\n",
       "                                          attributes  \\\n",
       "0                           {'GoodForKids': 'False'}   \n",
       "1  {'GoodForKids': 'True', 'NoiseLevel': \"u'avera...   \n",
       "2                                                NaN   \n",
       "3  {'BusinessAcceptsBitcoin': 'False', 'ByAppoint...   \n",
       "4  {'RestaurantsPriceRange2': '2', 'BusinessParki...   \n",
       "\n",
       "                                          categories  ... GoodForKids  \\\n",
       "0                                  Golf, Active Life  ...       False   \n",
       "1                  Sushi Bars, Restaurants, Japanese  ...        True   \n",
       "2                      Insurance, Financial Services  ...         NaN   \n",
       "3  Plumbing, Shopping, Local Services, Home Servi...  ...         NaN   \n",
       "4                         Beauty & Spas, Hair Salons  ...         NaN   \n",
       "\n",
       "                                         GoodForMeal WheelchairAccessible  \\\n",
       "0                                                NaN                  NaN   \n",
       "1  {'dessert': False, 'latenight': False, 'lunch'...                  NaN   \n",
       "2                                                NaN                  NaN   \n",
       "3                                                NaN                  NaN   \n",
       "4                                                NaN                  NaN   \n",
       "\n",
       "  Monday_hours Tuesday_hours Wednesday_hours Thursday_hours Friday_hours  \\\n",
       "0          NaN           NaN             NaN            NaN          NaN   \n",
       "1          4.0           NaN             4.0            4.0          4.5   \n",
       "2          9.0           9.0             9.0            9.0          9.0   \n",
       "3         16.0          16.0            16.0           16.0         16.0   \n",
       "4          NaN           NaN             NaN            NaN          NaN   \n",
       "\n",
       "  Saturday_hours Sunday_hours  \n",
       "0            NaN          NaN  \n",
       "1            4.5          3.5  \n",
       "2            NaN          NaN  \n",
       "3           16.0         16.0  \n",
       "4            NaN          NaN  \n",
       "\n",
       "[5 rows x 57 columns]"
      ]
     },
     "execution_count": 279,
     "metadata": {},
     "output_type": "execute_result"
    }
   ],
   "source": [
    "dat1.head()"
   ]
  },
  {
   "cell_type": "code",
   "execution_count": 281,
   "metadata": {},
   "outputs": [
    {
     "data": {
      "text/plain": [
       "(154606, 57)"
      ]
     },
     "execution_count": 281,
     "metadata": {},
     "output_type": "execute_result"
    }
   ],
   "source": [
    "dat1.shape"
   ]
  },
  {
   "cell_type": "code",
   "execution_count": 282,
   "metadata": {},
   "outputs": [],
   "source": [
    "dat1.to_csv('bussiness_train_version3.csv')"
   ]
  }
 ],
 "metadata": {
  "kernelspec": {
   "display_name": "Python 3",
   "language": "python",
   "name": "python3"
  },
  "language_info": {
   "codemirror_mode": {
    "name": "ipython",
    "version": 3
   },
   "file_extension": ".py",
   "mimetype": "text/x-python",
   "name": "python",
   "nbconvert_exporter": "python",
   "pygments_lexer": "ipython3",
   "version": "3.7.2"
  }
 },
 "nbformat": 4,
 "nbformat_minor": 2
}
