{
  "cells": [
    {
      "cell_type": "markdown",
      "source": [
        "- git clone https://github.com/KiRinHong/ratingsInYelp.git\n",
        "- git remote add yelp https://github.com/KiRinHong/ratingsInYelp.git\n",
        "- git add .\n",
        "- git commit -m \"added ATOM set up guide\"\n",
        "- git status\n",
        "- git push yelp feature-kirin"
      ],
      "metadata": {}
    },
    {
      "cell_type": "markdown",
      "source": [
        "_italic text_\n",
        "**bold text**"
      ],
      "metadata": {}
    },
    {
      "cell_type": "code",
      "source": [
        "print('Hello, world!')"
      ],
      "outputs": [],
      "execution_count": null,
      "metadata": {
        "collapsed": false,
        "outputHidden": false,
        "inputHidden": false
      }
    },
    {
      "cell_type": "code",
      "source": [
        "import matplotlib.pyplot as plt\n",
        "import numpy as np\n",
        "import pandas as pd\n",
        "%matplotlib inline\n",
        "%config InlineBackend.figure_format = 'svg'"
      ],
      "outputs": [],
      "execution_count": null,
      "metadata": {
        "collapsed": false,
        "outputHidden": false,
        "inputHidden": false
      }
    },
    {
      "cell_type": "code",
      "source": [
        "t = np.linspace(0, 20, 500)\n",
        "plt.plot(t, np.sin(t))\n",
        "plt.show()"
      ],
      "outputs": [],
      "execution_count": null,
      "metadata": {
        "collapsed": false,
        "outputHidden": false,
        "inputHidden": false
      }
    },
    {
      "cell_type": "code",
      "source": [
        "df = pd.DataFrame({'A': 1.,\n",
        "                   'B': pd.Timestamp('20130102'),\n",
        "                   'C': pd.Series(1, index=list(range(4)), dtype='float32'),\n",
        "                   'D': np.array([3] * 4, dtype='int32'),\n",
        "                   'E': pd.Categorical([\"test\", \"train\", \"test\", \"train\"]),\n",
        "                   'F': 'foo'})\n",
        "\ndf"
      ],
      "outputs": [],
      "execution_count": null,
      "metadata": {
        "collapsed": false,
        "outputHidden": false,
        "inputHidden": false
      }
    }
  ],
  "metadata": {
    "kernelspec": {
      "argv": [
        "python",
        "-m",
        "ipykernel_launcher",
        "-f",
        "{connection_file}"
      ],
      "display_name": "Python 3",
      "language": "python",
      "name": "python3"
    }
  },
  "nbformat": 4,
  "nbformat_minor": 4
}